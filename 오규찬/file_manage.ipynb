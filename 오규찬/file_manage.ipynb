{
 "cells": [
  {
   "cell_type": "code",
   "execution_count": 2,
   "id": "eb9a32e0",
   "metadata": {},
   "outputs": [],
   "source": [
    "import os\n",
    "import glob\n",
    "import shutil\n",
    "from datetime import datetime"
   ]
  },
  {
   "cell_type": "code",
   "execution_count": 3,
   "id": "c83e4b49",
   "metadata": {},
   "outputs": [
    {
     "name": "stdout",
     "output_type": "stream",
     "text": [
      "20220725\n"
     ]
    }
   ],
   "source": [
    "cwd = os.getcwd()\n",
    "today = datetime.today().strftime(\"%Y%m%d\")\n",
    "print(today)"
   ]
  },
  {
   "cell_type": "code",
   "execution_count": 4,
   "id": "3a528e5d",
   "metadata": {},
   "outputs": [],
   "source": [
    "def convertToPPS(files) :\n",
    "    newFiles = []\n",
    "    for file in files :\n",
    "        fileName, fileExt = os.path.splitext(file)\n",
    "        if not 'OhGyuchan' in file :\n",
    "            newFileName = '%s_OhGyuchan_%s%s' % (fileName, today, fileExt)\n",
    "            newFile = os.path.join(cwd, newFileName)\n",
    "            oldFile = os.path.join(cwd, file)\n",
    "            os.rename(file, newFile)\n",
    "            newFiles.append(newFile)\n",
    "    return '%d files changed' % len(newFiles)\n",
    "\n",
    "def isMyFile(x) :\n",
    "    fileName, fileExt = os.path.splitext(x)\n",
    "    return fileName[1:].isdigit()"
   ]
  },
  {
   "cell_type": "code",
   "execution_count": 5,
   "id": "d567f547",
   "metadata": {},
   "outputs": [
    {
     "data": {
      "text/plain": [
       "'1 files changed'"
      ]
     },
     "execution_count": 5,
     "metadata": {},
     "output_type": "execute_result"
    }
   ],
   "source": [
    "myFiles = sorted(list(filter(isMyFile, os.listdir())))\n",
    "convertToPPS(myFiles)"
   ]
  },
  {
   "cell_type": "code",
   "execution_count": 6,
   "id": "afe9c3a5",
   "metadata": {},
   "outputs": [],
   "source": [
    "def isPPSFile(x) :\n",
    "    return 'OhGyuchan' in x\n",
    "\n",
    "def printNumbers(fileList) :\n",
    "    for i in fileList :\n",
    "        if i == fileList[-1] :\n",
    "            print(i[0:4])\n",
    "        else :\n",
    "            print(i[0:4], end=',')\n",
    "    print(\"Count of Files: %d\" % int(len(fileList)))"
   ]
  },
  {
   "cell_type": "code",
   "execution_count": 7,
   "id": "ae76ed8d",
   "metadata": {},
   "outputs": [
    {
     "name": "stdout",
     "output_type": "stream",
     "text": [
      "A001,A002,A003,A004,A005,A006,A007,A008,A009,A010,A011,A012,A013,A014,A015,A016,A017,A018,A019,A020,A021,A022,A023,A024,A025,A026,A027,A028,A029,A030,A031,A032,A033,A034,A035,A036,A037,A038,A039,A040,A041,A042,A043,A044,A045,A046,A047,A048,A049,A050,A051,A052,A053,A054,A055,A056,A057,A058,A059,A060,A061,A062,A063,A064,A065,A066,A067,A068,A069,A070,A080\n",
      "Count of Files: 71\n"
     ]
    }
   ],
   "source": [
    "ppsFiles = sorted(list(filter(isPPSFile, os.listdir())))\n",
    "printNumbers(ppsFiles)"
   ]
  },
  {
   "cell_type": "code",
   "execution_count": 8,
   "id": "afcadb3c",
   "metadata": {},
   "outputs": [],
   "source": [
    "def isTodayFile(x) :\n",
    "    return today in x"
   ]
  },
  {
   "cell_type": "code",
   "execution_count": 9,
   "id": "d4ff8605",
   "metadata": {},
   "outputs": [
    {
     "name": "stdout",
     "output_type": "stream",
     "text": [
      "A080\n",
      "Count of Files: 1\n"
     ]
    }
   ],
   "source": [
    "todayFiles = sorted(list(filter(isTodayFile, os.listdir())))\n",
    "printNumbers(todayFiles)"
   ]
  },
  {
   "cell_type": "code",
   "execution_count": 3,
   "id": "b3734781",
   "metadata": {},
   "outputs": [
    {
     "name": "stdout",
     "output_type": "stream",
     "text": [
      "A081_OhGyuchan_20220726.py\n",
      "A082_OhGyuchan_20220726.py\n",
      "A083_OhGyuchan_20220726.py\n",
      "A084_OhGyuchan_20220726.py\n",
      "A085_OhGyuchan_20220726.py\n",
      "A086_OhGyuchan_20220726.py\n",
      "A087_OhGyuchan_20220726.py\n",
      "A088_OhGyuchan_20220726.py\n",
      "A089_OhGyuchan_20220726.py\n",
      "A090_OhGyuchan_20220726.py\n",
      "created\n"
     ]
    }
   ],
   "source": [
    "# 자동 파일 생성\n",
    "today = datetime.today().strftime(\"%Y%m%d\")\n",
    "for i in range(81, 91) :\n",
    "    newFileName = 'A%s_OhGyuchan_%s.py' % (str(i).zfill(3), today)\n",
    "    print(newFileName)\n",
    "    file = open(newFileName,'w',encoding = 'utf-8')\n",
    "    file.close()\n",
    "print('created')"
   ]
  },
  {
   "cell_type": "code",
   "execution_count": null,
   "id": "7c34baf2",
   "metadata": {},
   "outputs": [],
   "source": []
  }
 ],
 "metadata": {
  "kernelspec": {
   "display_name": "Python 3 (ipykernel)",
   "language": "python",
   "name": "python3"
  },
  "language_info": {
   "codemirror_mode": {
    "name": "ipython",
    "version": 3
   },
   "file_extension": ".py",
   "mimetype": "text/x-python",
   "name": "python",
   "nbconvert_exporter": "python",
   "pygments_lexer": "ipython3",
   "version": "3.9.7"
  },
  "vscode": {
   "interpreter": {
    "hash": "4be94c5c07bdbcd1a46fb25e2e2b035d022f0e1748a115def1dfc32e1c0e4655"
   }
  }
 },
 "nbformat": 4,
 "nbformat_minor": 5
}
