{
 "cells": [
  {
   "cell_type": "code",
   "execution_count": null,
   "id": "eb9a32e0",
   "metadata": {},
   "outputs": [],
   "source": [
    "import os\n",
    "import glob\n",
    "import shutil\n",
    "from datetime import datetime"
   ]
  },
  {
   "cell_type": "code",
   "execution_count": null,
   "id": "c83e4b49",
   "metadata": {},
   "outputs": [],
   "source": [
    "cwd = os.getcwd()\n",
    "today = datetime.today().strftime(\"%Y%m%d\")\n",
    "print(today)"
   ]
  },
  {
   "cell_type": "code",
   "execution_count": null,
   "id": "3a528e5d",
   "metadata": {},
   "outputs": [],
   "source": [
    "def convertToPPS(files) :\n",
    "    newFiles = []\n",
    "    for file in files :\n",
    "        fileName, fileExt = os.path.splitext(file)\n",
    "        if not 'OhGyuchan' in file :\n",
    "            newFileName = '%s_OhGyuchan_%s%s' % (fileName, today, fileExt)\n",
    "            newFile = os.path.join(cwd, newFileName)\n",
    "            oldFile = os.path.join(cwd, file)\n",
    "            os.rename(file, newFile)\n",
    "            newFiles.append(newFile)\n",
    "    return '%d files changed' % len(newFiles)\n",
    "\n",
    "def isMyFile(x) :\n",
    "    fileName, fileExt = os.path.splitext(x)\n",
    "    return fileName[1:].isdigit()"
   ]
  },
  {
   "cell_type": "code",
   "execution_count": null,
   "id": "d567f547",
   "metadata": {},
   "outputs": [],
   "source": [
    "myFiles = sorted(list(filter(isMyFile, os.listdir())))\n",
    "convertToPPS(myFiles)"
   ]
  },
  {
   "cell_type": "code",
   "execution_count": null,
   "id": "afe9c3a5",
   "metadata": {},
   "outputs": [],
   "source": [
    "def isPPSFile(x) :\n",
    "    return 'OhGyuchan' in x\n",
    "\n",
    "def printNumbers(fileList) :\n",
    "    for i in fileList :\n",
    "        if i == fileList[-1] :\n",
    "            print(i[0:4])\n",
    "        else :\n",
    "            print(i[0:4], end=',')\n",
    "    print(\"Count of Files: %d\" % int(len(fileList)))"
   ]
  },
  {
   "cell_type": "code",
   "execution_count": null,
   "id": "ae76ed8d",
   "metadata": {},
   "outputs": [],
   "source": [
    "ppsFiles = sorted(list(filter(isPPSFile, os.listdir())))\n",
    "printNumbers(ppsFiles)"
   ]
  },
  {
   "cell_type": "code",
   "execution_count": null,
   "id": "afcadb3c",
   "metadata": {},
   "outputs": [],
   "source": [
    "def isTodayFile(x) :\n",
    "    return today in x"
   ]
  },
  {
   "cell_type": "code",
   "execution_count": null,
   "id": "d4ff8605",
   "metadata": {},
   "outputs": [],
   "source": [
    "todayFiles = sorted(list(filter(isTodayFile, os.listdir())))\n",
    "printNumbers(todayFiles)"
   ]
  }
 ],
 "metadata": {
  "kernelspec": {
   "display_name": "Python 3.9.7 64-bit ('3.9.7')",
   "language": "python",
   "name": "python3"
  },
  "language_info": {
   "codemirror_mode": {
    "name": "ipython",
    "version": 3
   },
   "file_extension": ".py",
   "mimetype": "text/x-python",
   "name": "python",
   "nbconvert_exporter": "python",
   "pygments_lexer": "ipython3",
   "version": "3.9.7"
  },
  "vscode": {
   "interpreter": {
    "hash": "4be94c5c07bdbcd1a46fb25e2e2b035d022f0e1748a115def1dfc32e1c0e4655"
   }
  }
 },
 "nbformat": 4,
 "nbformat_minor": 5
}
